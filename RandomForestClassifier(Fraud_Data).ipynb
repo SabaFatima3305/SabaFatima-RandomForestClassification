{
 "cells": [
  {
   "cell_type": "code",
   "execution_count": 1,
   "id": "030a5410",
   "metadata": {},
   "outputs": [
    {
     "data": {
      "text/html": [
       "<div>\n",
       "<style scoped>\n",
       "    .dataframe tbody tr th:only-of-type {\n",
       "        vertical-align: middle;\n",
       "    }\n",
       "\n",
       "    .dataframe tbody tr th {\n",
       "        vertical-align: top;\n",
       "    }\n",
       "\n",
       "    .dataframe thead th {\n",
       "        text-align: right;\n",
       "    }\n",
       "</style>\n",
       "<table border=\"1\" class=\"dataframe\">\n",
       "  <thead>\n",
       "    <tr style=\"text-align: right;\">\n",
       "      <th></th>\n",
       "      <th>Undergrad</th>\n",
       "      <th>Marital.Status</th>\n",
       "      <th>Taxable.Income</th>\n",
       "      <th>City.Population</th>\n",
       "      <th>Work.Experience</th>\n",
       "      <th>Urban</th>\n",
       "    </tr>\n",
       "  </thead>\n",
       "  <tbody>\n",
       "    <tr>\n",
       "      <th>0</th>\n",
       "      <td>NO</td>\n",
       "      <td>Single</td>\n",
       "      <td>68833</td>\n",
       "      <td>50047</td>\n",
       "      <td>10</td>\n",
       "      <td>YES</td>\n",
       "    </tr>\n",
       "    <tr>\n",
       "      <th>1</th>\n",
       "      <td>YES</td>\n",
       "      <td>Divorced</td>\n",
       "      <td>33700</td>\n",
       "      <td>134075</td>\n",
       "      <td>18</td>\n",
       "      <td>YES</td>\n",
       "    </tr>\n",
       "    <tr>\n",
       "      <th>2</th>\n",
       "      <td>NO</td>\n",
       "      <td>Married</td>\n",
       "      <td>36925</td>\n",
       "      <td>160205</td>\n",
       "      <td>30</td>\n",
       "      <td>YES</td>\n",
       "    </tr>\n",
       "    <tr>\n",
       "      <th>3</th>\n",
       "      <td>YES</td>\n",
       "      <td>Single</td>\n",
       "      <td>50190</td>\n",
       "      <td>193264</td>\n",
       "      <td>15</td>\n",
       "      <td>YES</td>\n",
       "    </tr>\n",
       "    <tr>\n",
       "      <th>4</th>\n",
       "      <td>NO</td>\n",
       "      <td>Married</td>\n",
       "      <td>81002</td>\n",
       "      <td>27533</td>\n",
       "      <td>28</td>\n",
       "      <td>NO</td>\n",
       "    </tr>\n",
       "    <tr>\n",
       "      <th>...</th>\n",
       "      <td>...</td>\n",
       "      <td>...</td>\n",
       "      <td>...</td>\n",
       "      <td>...</td>\n",
       "      <td>...</td>\n",
       "      <td>...</td>\n",
       "    </tr>\n",
       "    <tr>\n",
       "      <th>595</th>\n",
       "      <td>YES</td>\n",
       "      <td>Divorced</td>\n",
       "      <td>76340</td>\n",
       "      <td>39492</td>\n",
       "      <td>7</td>\n",
       "      <td>YES</td>\n",
       "    </tr>\n",
       "    <tr>\n",
       "      <th>596</th>\n",
       "      <td>YES</td>\n",
       "      <td>Divorced</td>\n",
       "      <td>69967</td>\n",
       "      <td>55369</td>\n",
       "      <td>2</td>\n",
       "      <td>YES</td>\n",
       "    </tr>\n",
       "    <tr>\n",
       "      <th>597</th>\n",
       "      <td>NO</td>\n",
       "      <td>Divorced</td>\n",
       "      <td>47334</td>\n",
       "      <td>154058</td>\n",
       "      <td>0</td>\n",
       "      <td>YES</td>\n",
       "    </tr>\n",
       "    <tr>\n",
       "      <th>598</th>\n",
       "      <td>YES</td>\n",
       "      <td>Married</td>\n",
       "      <td>98592</td>\n",
       "      <td>180083</td>\n",
       "      <td>17</td>\n",
       "      <td>NO</td>\n",
       "    </tr>\n",
       "    <tr>\n",
       "      <th>599</th>\n",
       "      <td>NO</td>\n",
       "      <td>Divorced</td>\n",
       "      <td>96519</td>\n",
       "      <td>158137</td>\n",
       "      <td>16</td>\n",
       "      <td>NO</td>\n",
       "    </tr>\n",
       "  </tbody>\n",
       "</table>\n",
       "<p>600 rows × 6 columns</p>\n",
       "</div>"
      ],
      "text/plain": [
       "    Undergrad Marital.Status  Taxable.Income  City.Population  \\\n",
       "0          NO         Single           68833            50047   \n",
       "1         YES       Divorced           33700           134075   \n",
       "2          NO        Married           36925           160205   \n",
       "3         YES         Single           50190           193264   \n",
       "4          NO        Married           81002            27533   \n",
       "..        ...            ...             ...              ...   \n",
       "595       YES       Divorced           76340            39492   \n",
       "596       YES       Divorced           69967            55369   \n",
       "597        NO       Divorced           47334           154058   \n",
       "598       YES        Married           98592           180083   \n",
       "599        NO       Divorced           96519           158137   \n",
       "\n",
       "     Work.Experience Urban  \n",
       "0                 10   YES  \n",
       "1                 18   YES  \n",
       "2                 30   YES  \n",
       "3                 15   YES  \n",
       "4                 28    NO  \n",
       "..               ...   ...  \n",
       "595                7   YES  \n",
       "596                2   YES  \n",
       "597                0   YES  \n",
       "598               17    NO  \n",
       "599               16    NO  \n",
       "\n",
       "[600 rows x 6 columns]"
      ]
     },
     "execution_count": 1,
     "metadata": {},
     "output_type": "execute_result"
    }
   ],
   "source": [
    "import pandas as pd\n",
    "df =pd.read_csv(\"C:/Users/ASUS/OneDrive/Documents/data science/DS Assignments/Random forest/Fraud_check.csv\")\n",
    "df"
   ]
  },
  {
   "cell_type": "markdown",
   "id": "76c35814",
   "metadata": {},
   "source": [
    "## Data Preprocessing"
   ]
  },
  {
   "cell_type": "code",
   "execution_count": 2,
   "id": "ba4beeca",
   "metadata": {},
   "outputs": [
    {
     "data": {
      "text/plain": [
       "Undergrad          0\n",
       "Marital.Status     0\n",
       "Taxable.Income     0\n",
       "City.Population    0\n",
       "Work.Experience    0\n",
       "Urban              0\n",
       "dtype: int64"
      ]
     },
     "execution_count": 2,
     "metadata": {},
     "output_type": "execute_result"
    }
   ],
   "source": [
    "df.isnull().sum()"
   ]
  },
  {
   "cell_type": "code",
   "execution_count": 3,
   "id": "233509b2",
   "metadata": {},
   "outputs": [
    {
     "data": {
      "text/plain": [
       "array([68833, 33700, 36925, 50190, 81002, 33329, 83357, 62774, 83519,\n",
       "       98152, 29732, 61063, 11794, 61830, 64070, 69869, 24987, 39476,\n",
       "       97957, 10987, 88636, 14310, 78969, 92040, 38239, 31417, 55299,\n",
       "       87778, 10379, 94033, 73854, 64007, 97200, 82071, 12514, 31336,\n",
       "       10163, 68513, 14912, 74010, 50777, 49436, 96485, 70339, 33614,\n",
       "       81079, 31532, 44034, 16264, 45706, 79616, 40137, 97703, 21917,\n",
       "       81939, 19925, 34703, 78573, 10870, 65065, 94418, 26972, 91684,\n",
       "       51685, 62158, 58312, 42507, 61486, 10150, 99619, 89302, 94287,\n",
       "       41344, 41382, 32434, 61105, 67628, 31458, 73411, 10329, 44947,\n",
       "       35610, 66564, 87348, 69098, 28449, 39277, 13747, 86652, 26741,\n",
       "       77634, 99325, 85651, 15296, 10348, 41395, 22258, 79583, 22187,\n",
       "       52495, 93078, 35072, 32662, 89250, 41641, 55873, 19169, 46629,\n",
       "       51927, 69224, 24557, 77762, 96355, 90910, 21945, 79357, 42784,\n",
       "       54638, 29944, 97318, 52022, 20391, 21016, 26679, 70682, 87326,\n",
       "       15853, 75501, 97984, 53378, 93458, 56501, 46955, 33492, 35832,\n",
       "       12470, 53981, 22773, 84691, 50087, 27877, 56647, 59419, 26783,\n",
       "       79453, 33962, 84429, 63057, 43128, 40220, 79700, 67083, 22054,\n",
       "       18192, 25222, 58635, 39114, 48738, 28496, 62209, 87677, 93659,\n",
       "       56503, 27081, 48779, 91304, 49520, 41117, 18199, 76992, 98588,\n",
       "       20719, 13068, 84835, 44795, 39052, 38704, 98416, 86958, 29222,\n",
       "       71357, 29543, 23855, 84836, 93307, 64614, 72949, 79211, 28707,\n",
       "       83229, 73620, 70819, 48313, 37481, 20851, 86079, 10933, 66905,\n",
       "       36890, 19060, 61906, 31088, 70365, 56536, 16992, 14300, 51914,\n",
       "       12083, 71376, 99307, 35200, 70812, 62067, 62365, 80618, 52891,\n",
       "       31409, 81790, 57794, 20604, 83459, 43051, 68911, 38374, 86784,\n",
       "       42488, 35922, 46610, 28764, 75170, 24370, 84083, 11784, 10003,\n",
       "       98970, 77735, 46070, 27143, 56974, 99109, 32603, 24215, 33092,\n",
       "       71297, 68268, 33810, 49995, 11865, 28904, 39144, 31591, 30167,\n",
       "       72382, 79869, 70526, 38143, 70298, 54747, 92997, 24347, 57445,\n",
       "       70645, 69540, 70712, 32900, 14326, 43865, 29046, 95088, 38586,\n",
       "       30468, 42254, 32467, 68404, 58451, 86208, 62426, 63710, 25062,\n",
       "       56438, 17783, 92426, 64667, 32483, 15673, 77511, 76182, 89831,\n",
       "       12072, 81231, 48169, 31699, 15710, 31645, 98933, 52912, 68756,\n",
       "       41087, 46798, 34475, 98334, 10900, 61445, 78796, 62141, 90945,\n",
       "       88918, 62873, 70949, 31521, 59615, 52111, 34598, 61124, 59689,\n",
       "       23075, 48192, 77367, 82625, 51802, 78922, 38670, 48392, 47425,\n",
       "       73906, 94013, 27698, 26793, 67033, 20109, 95185, 27684, 98240,\n",
       "       18032, 46470, 33301, 62800, 27520, 26094, 13571, 36239, 77082,\n",
       "       71572, 30495, 49771, 32905, 21337, 16082, 43883, 15491, 48081,\n",
       "       36317, 15627, 51028, 14422, 45525, 23480, 19184, 80239, 33215,\n",
       "       65203, 65190, 16320, 21696, 56129, 74971, 33356, 29607, 95319,\n",
       "       94413, 78963, 66865, 40427, 93733, 63543, 41184, 96652, 56555,\n",
       "       36457, 26101, 36156, 49958, 68696, 97453, 68533, 96438, 50348,\n",
       "       85016, 73188, 64225, 64437, 66330, 26372, 30714, 84263, 86531,\n",
       "       93090, 79373, 17440, 81536, 62494, 37580, 60822, 96032, 91545,\n",
       "       73313, 54345, 33138, 33579, 83094, 90065, 51913, 81378, 32236,\n",
       "       97980, 38626, 64230, 38183, 89277, 68269, 58751, 88720, 99311,\n",
       "       94528, 72268, 79593, 94247, 76700, 12011, 87935, 98720, 38638,\n",
       "       37857, 15532, 22159, 91547, 98738, 21966, 14398, 18572, 77312,\n",
       "       42074, 82799, 12659, 19649, 50119, 18888, 83061, 39343, 92007,\n",
       "       78728, 48640, 92070, 97341, 97493, 78400, 52862, 11804, 10455,\n",
       "       25766, 58199, 88613, 16690, 71164, 48825, 29236, 59689, 48940,\n",
       "       64320, 84845, 52663, 17957, 69018, 58496, 99128, 35868, 79478,\n",
       "       57402, 73795, 58403, 85972, 62998, 32786, 17962, 59440, 94772,\n",
       "       80083, 81026, 86883, 39444, 35886, 24541, 54502, 17183, 39562,\n",
       "       70157, 72151, 65170, 67936, 93339, 57365, 56628, 83814, 75324,\n",
       "       46939, 71428, 23884, 95145, 46002, 20309, 72115, 42769, 91870,\n",
       "       55308, 60789, 51363, 99239, 19272, 44411, 60915, 98433, 81867,\n",
       "       43980, 50286, 29385, 47565, 26494, 59243, 91488, 33116, 93364,\n",
       "       70743, 34007, 26128, 33748, 38896, 40674, 97111, 54850, 32948,\n",
       "       12682, 12453, 34655, 59351, 29916, 36532, 94583, 92819, 76535,\n",
       "       91220, 71238, 32356, 89094, 91462, 75585, 31629, 42063, 12810,\n",
       "       85570, 72026, 90444, 50403, 78867, 95920, 41545, 63912, 92498,\n",
       "       16316, 68617, 59860, 55981, 34833, 39818, 59227, 44809, 10735,\n",
       "       50242, 56166, 42483, 70572, 31721, 31085, 84931, 69036, 42679,\n",
       "       84557, 54126, 87685, 85076, 31633, 43018, 27394, 68152, 84775,\n",
       "       47364, 76340, 69967, 47334, 98592, 96519], dtype=int64)"
      ]
     },
     "execution_count": 3,
     "metadata": {},
     "output_type": "execute_result"
    }
   ],
   "source": [
    "df[\"Taxable.Income\"].values"
   ]
  },
  {
   "cell_type": "code",
   "execution_count": 19,
   "id": "35e6d2ab",
   "metadata": {},
   "outputs": [
    {
     "data": {
      "text/plain": [
       "<Axes: xlabel='Marital.Status', ylabel='count'>"
      ]
     },
     "execution_count": 19,
     "metadata": {},
     "output_type": "execute_result"
    },
    {
     "data": {
      "image/png": "[encoded data removed]",
      "text/plain": [
       "<Figure size 640x480 with 1 Axes>"
      ]
     },
     "metadata": {},
     "output_type": "display_data"
    }
   ],
   "source": [
    "import seaborn as sns\n",
    "sns.countplot(x = df[\"Marital.Status\"])"
   ]
  },
  {
   "cell_type": "code",
   "execution_count": 20,
   "id": "7618dca1",
   "metadata": {},
   "outputs": [
    {
     "data": {
      "text/plain": [
       "<Axes: xlabel='Undergrad', ylabel='count'>"
      ]
     },
     "execution_count": 20,
     "metadata": {},
     "output_type": "execute_result"
    },
    {
     "data": {
      "image/png": "[encoded data removed]",
      "text/plain": [
       "<Figure size 640x480 with 1 Axes>"
      ]
     },
     "metadata": {},
     "output_type": "display_data"
    }
   ],
   "source": [
    "import seaborn as sns\n",
    "sns.countplot(x = df[\"Undergrad\"])"
   ]
  },
  {
   "cell_type": "code",
   "execution_count": 24,
   "id": "af12b9d2",
   "metadata": {},
   "outputs": [
    {
     "data": {
      "text/plain": [
       "<Axes: xlabel='Urban', ylabel='count'>"
      ]
     },
     "execution_count": 24,
     "metadata": {},
     "output_type": "execute_result"
    },
    {
     "data": {
      "image/png": "[encoded data removed]",
      "text/plain": [
       "<Figure size 640x480 with 1 Axes>"
      ]
     },
     "metadata": {},
     "output_type": "display_data"
    }
   ],
   "source": [
    "import seaborn as sns\n",
    "sns.countplot(x = df[\"Urban\"],color = \"purple\")"
   ]
  },
  {
   "cell_type": "code",
   "execution_count": 32,
   "id": "a83d8181",
   "metadata": {},
   "outputs": [
    {
     "name": "stderr",
     "output_type": "stream",
     "text": [
      "C:\\Users\\ASUS\\AppData\\Local\\Temp\\ipykernel_17948\\3089647344.py:1: FutureWarning: The default value of numeric_only in DataFrameGroupBy.sum is deprecated. In a future version, numeric_only will default to False. Either specify numeric_only or select only columns which should be valid for the function.\n",
      "  t = df.groupby(\"Taxable.Income\").sum()\n"
     ]
    },
    {
     "data": {
      "text/plain": [
       "<Axes: ylabel='Frequency'>"
      ]
     },
     "execution_count": 32,
     "metadata": {},
     "output_type": "execute_result"
    },
    {
     "data": {
      "image/png": "[encoded data removed]",
      "text/plain": [
       "<Figure size 640x480 with 1 Axes>"
      ]
     },
     "metadata": {},
     "output_type": "display_data"
    }
   ],
   "source": [
    "t = df.groupby(\"Taxable.Income\").sum()\n",
    "t[\"Work.Experience\"].plot(kind = \"hist\",color = \"red\",width = 0.10)"
   ]
  },
  {
   "cell_type": "code",
   "execution_count": 4,
   "id": "f31372ee",
   "metadata": {},
   "outputs": [],
   "source": [
    "tax_income = []\n",
    "for value in df[\"Taxable.Income\"]:\n",
    "  if value <= 30000:\n",
    "    tax_income.append(\"Risky\")\n",
    "  else:\n",
    "    tax_income.append(\"Good\")\n",
    "df[\"tax_income\"] = tax_income"
   ]
  },
  {
   "cell_type": "code",
   "execution_count": 5,
   "id": "84839cec",
   "metadata": {},
   "outputs": [
    {
     "data": {
      "text/html": [
       "<div>\n",
       "<style scoped>\n",
       "    .dataframe tbody tr th:only-of-type {\n",
       "        vertical-align: middle;\n",
       "    }\n",
       "\n",
       "    .dataframe tbody tr th {\n",
       "        vertical-align: top;\n",
       "    }\n",
       "\n",
       "    .dataframe thead th {\n",
       "        text-align: right;\n",
       "    }\n",
       "</style>\n",
       "<table border=\"1\" class=\"dataframe\">\n",
       "  <thead>\n",
       "    <tr style=\"text-align: right;\">\n",
       "      <th></th>\n",
       "      <th>Undergrad</th>\n",
       "      <th>Marital.Status</th>\n",
       "      <th>Taxable.Income</th>\n",
       "      <th>City.Population</th>\n",
       "      <th>Work.Experience</th>\n",
       "      <th>Urban</th>\n",
       "    </tr>\n",
       "  </thead>\n",
       "  <tbody>\n",
       "    <tr>\n",
       "      <th>0</th>\n",
       "      <td>NO</td>\n",
       "      <td>Single</td>\n",
       "      <td>68833</td>\n",
       "      <td>50047</td>\n",
       "      <td>10</td>\n",
       "      <td>YES</td>\n",
       "    </tr>\n",
       "    <tr>\n",
       "      <th>1</th>\n",
       "      <td>YES</td>\n",
       "      <td>Divorced</td>\n",
       "      <td>33700</td>\n",
       "      <td>134075</td>\n",
       "      <td>18</td>\n",
       "      <td>YES</td>\n",
       "    </tr>\n",
       "    <tr>\n",
       "      <th>2</th>\n",
       "      <td>NO</td>\n",
       "      <td>Married</td>\n",
       "      <td>36925</td>\n",
       "      <td>160205</td>\n",
       "      <td>30</td>\n",
       "      <td>YES</td>\n",
       "    </tr>\n",
       "    <tr>\n",
       "      <th>3</th>\n",
       "      <td>YES</td>\n",
       "      <td>Single</td>\n",
       "      <td>50190</td>\n",
       "      <td>193264</td>\n",
       "      <td>15</td>\n",
       "      <td>YES</td>\n",
       "    </tr>\n",
       "    <tr>\n",
       "      <th>4</th>\n",
       "      <td>NO</td>\n",
       "      <td>Married</td>\n",
       "      <td>81002</td>\n",
       "      <td>27533</td>\n",
       "      <td>28</td>\n",
       "      <td>NO</td>\n",
       "    </tr>\n",
       "  </tbody>\n",
       "</table>\n",
       "</div>"
      ],
      "text/plain": [
       "  Undergrad Marital.Status  Taxable.Income  City.Population  Work.Experience  \\\n",
       "0        NO         Single           68833            50047               10   \n",
       "1       YES       Divorced           33700           134075               18   \n",
       "2        NO        Married           36925           160205               30   \n",
       "3       YES         Single           50190           193264               15   \n",
       "4        NO        Married           81002            27533               28   \n",
       "\n",
       "  Urban  \n",
       "0   YES  \n",
       "1   YES  \n",
       "2   YES  \n",
       "3   YES  \n",
       "4    NO  "
      ]
     },
     "execution_count": 5,
     "metadata": {},
     "output_type": "execute_result"
    }
   ],
   "source": [
    "x = df.drop(df.columns[[6]],axis = 1)\n",
    "x.head()"
   ]
  },
  {
   "cell_type": "code",
   "execution_count": 6,
   "id": "0824f817",
   "metadata": {},
   "outputs": [
    {
     "data": {
      "text/plain": [
       "0    Good\n",
       "1    Good\n",
       "2    Good\n",
       "3    Good\n",
       "4    Good\n",
       "Name: tax_income, dtype: object"
      ]
     },
     "execution_count": 6,
     "metadata": {},
     "output_type": "execute_result"
    }
   ],
   "source": [
    "y = df[\"tax_income\"]\n",
    "y.head()"
   ]
  },
  {
   "cell_type": "markdown",
   "id": "e07236b1",
   "metadata": {},
   "source": [
    "## Data Transformation"
   ]
  },
  {
   "cell_type": "code",
   "execution_count": 7,
   "id": "4d05ef16",
   "metadata": {},
   "outputs": [
    {
     "data": {
      "text/html": [
       "<div>\n",
       "<style scoped>\n",
       "    .dataframe tbody tr th:only-of-type {\n",
       "        vertical-align: middle;\n",
       "    }\n",
       "\n",
       "    .dataframe tbody tr th {\n",
       "        vertical-align: top;\n",
       "    }\n",
       "\n",
       "    .dataframe thead th {\n",
       "        text-align: right;\n",
       "    }\n",
       "</style>\n",
       "<table border=\"1\" class=\"dataframe\">\n",
       "  <thead>\n",
       "    <tr style=\"text-align: right;\">\n",
       "      <th></th>\n",
       "      <th>Taxable.Income</th>\n",
       "      <th>City.Population</th>\n",
       "      <th>Work.Experience</th>\n",
       "    </tr>\n",
       "  </thead>\n",
       "  <tbody>\n",
       "    <tr>\n",
       "      <th>0</th>\n",
       "      <td>0.520362</td>\n",
       "      <td>-1.178521</td>\n",
       "      <td>-0.629143</td>\n",
       "    </tr>\n",
       "    <tr>\n",
       "      <th>1</th>\n",
       "      <td>-0.821464</td>\n",
       "      <td>0.508500</td>\n",
       "      <td>0.276370</td>\n",
       "    </tr>\n",
       "    <tr>\n",
       "      <th>2</th>\n",
       "      <td>-0.698292</td>\n",
       "      <td>1.033109</td>\n",
       "      <td>1.634639</td>\n",
       "    </tr>\n",
       "    <tr>\n",
       "      <th>3</th>\n",
       "      <td>-0.191666</td>\n",
       "      <td>1.696831</td>\n",
       "      <td>-0.063197</td>\n",
       "    </tr>\n",
       "    <tr>\n",
       "      <th>4</th>\n",
       "      <td>0.985129</td>\n",
       "      <td>-1.630532</td>\n",
       "      <td>1.408261</td>\n",
       "    </tr>\n",
       "  </tbody>\n",
       "</table>\n",
       "</div>"
      ],
      "text/plain": [
       "   Taxable.Income  City.Population  Work.Experience\n",
       "0        0.520362        -1.178521        -0.629143\n",
       "1       -0.821464         0.508500         0.276370\n",
       "2       -0.698292         1.033109         1.634639\n",
       "3       -0.191666         1.696831        -0.063197\n",
       "4        0.985129        -1.630532         1.408261"
      ]
     },
     "execution_count": 7,
     "metadata": {},
     "output_type": "execute_result"
    }
   ],
   "source": [
    "ssx = df[[\"Taxable.Income\",\"City.Population\",\"Work.Experience\"]]\n",
    "from sklearn.preprocessing import StandardScaler\n",
    "ss = StandardScaler()\n",
    "ss = ss.fit_transform(ssx)\n",
    "ss = pd.DataFrame(ss)\n",
    "ss.columns = list(ssx)\n",
    "ss.head()"
   ]
  },
  {
   "cell_type": "code",
   "execution_count": 8,
   "id": "5d9cba21",
   "metadata": {},
   "outputs": [
    {
     "data": {
      "text/html": [
       "<div>\n",
       "<style scoped>\n",
       "    .dataframe tbody tr th:only-of-type {\n",
       "        vertical-align: middle;\n",
       "    }\n",
       "\n",
       "    .dataframe tbody tr th {\n",
       "        vertical-align: top;\n",
       "    }\n",
       "\n",
       "    .dataframe thead th {\n",
       "        text-align: right;\n",
       "    }\n",
       "</style>\n",
       "<table border=\"1\" class=\"dataframe\">\n",
       "  <thead>\n",
       "    <tr style=\"text-align: right;\">\n",
       "      <th></th>\n",
       "      <th>Undergrad</th>\n",
       "      <th>Marital.Status</th>\n",
       "      <th>Urban</th>\n",
       "    </tr>\n",
       "  </thead>\n",
       "  <tbody>\n",
       "    <tr>\n",
       "      <th>0</th>\n",
       "      <td>0</td>\n",
       "      <td>2</td>\n",
       "      <td>1</td>\n",
       "    </tr>\n",
       "    <tr>\n",
       "      <th>1</th>\n",
       "      <td>1</td>\n",
       "      <td>0</td>\n",
       "      <td>1</td>\n",
       "    </tr>\n",
       "    <tr>\n",
       "      <th>2</th>\n",
       "      <td>0</td>\n",
       "      <td>1</td>\n",
       "      <td>1</td>\n",
       "    </tr>\n",
       "    <tr>\n",
       "      <th>3</th>\n",
       "      <td>1</td>\n",
       "      <td>2</td>\n",
       "      <td>1</td>\n",
       "    </tr>\n",
       "    <tr>\n",
       "      <th>4</th>\n",
       "      <td>0</td>\n",
       "      <td>1</td>\n",
       "      <td>0</td>\n",
       "    </tr>\n",
       "    <tr>\n",
       "      <th>...</th>\n",
       "      <td>...</td>\n",
       "      <td>...</td>\n",
       "      <td>...</td>\n",
       "    </tr>\n",
       "    <tr>\n",
       "      <th>595</th>\n",
       "      <td>1</td>\n",
       "      <td>0</td>\n",
       "      <td>1</td>\n",
       "    </tr>\n",
       "    <tr>\n",
       "      <th>596</th>\n",
       "      <td>1</td>\n",
       "      <td>0</td>\n",
       "      <td>1</td>\n",
       "    </tr>\n",
       "    <tr>\n",
       "      <th>597</th>\n",
       "      <td>0</td>\n",
       "      <td>0</td>\n",
       "      <td>1</td>\n",
       "    </tr>\n",
       "    <tr>\n",
       "      <th>598</th>\n",
       "      <td>1</td>\n",
       "      <td>1</td>\n",
       "      <td>0</td>\n",
       "    </tr>\n",
       "    <tr>\n",
       "      <th>599</th>\n",
       "      <td>0</td>\n",
       "      <td>0</td>\n",
       "      <td>0</td>\n",
       "    </tr>\n",
       "  </tbody>\n",
       "</table>\n",
       "<p>600 rows × 3 columns</p>\n",
       "</div>"
      ],
      "text/plain": [
       "     Undergrad  Marital.Status  Urban\n",
       "0            0               2      1\n",
       "1            1               0      1\n",
       "2            0               1      1\n",
       "3            1               2      1\n",
       "4            0               1      0\n",
       "..         ...             ...    ...\n",
       "595          1               0      1\n",
       "596          1               0      1\n",
       "597          0               0      1\n",
       "598          1               1      0\n",
       "599          0               0      0\n",
       "\n",
       "[600 rows x 3 columns]"
      ]
     },
     "execution_count": 8,
     "metadata": {},
     "output_type": "execute_result"
    }
   ],
   "source": [
    "import warnings\n",
    "with warnings.catch_warnings():\n",
    "    # Setting values in-place is fine, ignore the warning in Pandas >= 1.5.0\n",
    "    # This can be removed, if Pandas 1.5.0 does not need to be supported any longer.\n",
    "    # See also: https://stackoverflow.com/q/74057367/859591\n",
    "    warnings.filterwarnings(\n",
    "        \"ignore\",\n",
    "        category=FutureWarning,\n",
    "        message=(\n",
    "            \".*will attempt to set the values inplace instead of always setting a new array. \"\n",
    "            \"To retain the old behavior, use either.*\"\n",
    "        ),\n",
    "    )\n",
    "\n",
    "pd.set_option('mode.chained_assignment', None)\n",
    "import warnings\n",
    "warnings.simplefilter(action='ignore', category=DeprecationWarning)\n",
    "\n",
    "\n",
    "from sklearn.preprocessing import LabelEncoder\n",
    "le = LabelEncoder()\n",
    "df_cat =df[df.columns[[0,1,5]]]\n",
    "df_cat.iloc[:,0] = le.fit_transform(df_cat.iloc[:,0])\n",
    "df_cat.iloc[:,1]= le.fit_transform(df_cat.iloc[:,1])\n",
    "df_cat.iloc[:,2]= le.fit_transform(df_cat.iloc[:,2])\n",
    "df_cat"
   ]
  },
  {
   "cell_type": "code",
   "execution_count": 9,
   "id": "3a698ab2",
   "metadata": {},
   "outputs": [
    {
     "data": {
      "text/html": [
       "<div>\n",
       "<style scoped>\n",
       "    .dataframe tbody tr th:only-of-type {\n",
       "        vertical-align: middle;\n",
       "    }\n",
       "\n",
       "    .dataframe tbody tr th {\n",
       "        vertical-align: top;\n",
       "    }\n",
       "\n",
       "    .dataframe thead th {\n",
       "        text-align: right;\n",
       "    }\n",
       "</style>\n",
       "<table border=\"1\" class=\"dataframe\">\n",
       "  <thead>\n",
       "    <tr style=\"text-align: right;\">\n",
       "      <th></th>\n",
       "      <th>Taxable.Income</th>\n",
       "      <th>City.Population</th>\n",
       "      <th>Work.Experience</th>\n",
       "      <th>Undergrad</th>\n",
       "      <th>Marital.Status</th>\n",
       "      <th>Urban</th>\n",
       "    </tr>\n",
       "  </thead>\n",
       "  <tbody>\n",
       "    <tr>\n",
       "      <th>0</th>\n",
       "      <td>0.520362</td>\n",
       "      <td>-1.178521</td>\n",
       "      <td>-0.629143</td>\n",
       "      <td>0</td>\n",
       "      <td>2</td>\n",
       "      <td>1</td>\n",
       "    </tr>\n",
       "    <tr>\n",
       "      <th>1</th>\n",
       "      <td>-0.821464</td>\n",
       "      <td>0.508500</td>\n",
       "      <td>0.276370</td>\n",
       "      <td>1</td>\n",
       "      <td>0</td>\n",
       "      <td>1</td>\n",
       "    </tr>\n",
       "    <tr>\n",
       "      <th>2</th>\n",
       "      <td>-0.698292</td>\n",
       "      <td>1.033109</td>\n",
       "      <td>1.634639</td>\n",
       "      <td>0</td>\n",
       "      <td>1</td>\n",
       "      <td>1</td>\n",
       "    </tr>\n",
       "    <tr>\n",
       "      <th>3</th>\n",
       "      <td>-0.191666</td>\n",
       "      <td>1.696831</td>\n",
       "      <td>-0.063197</td>\n",
       "      <td>1</td>\n",
       "      <td>2</td>\n",
       "      <td>1</td>\n",
       "    </tr>\n",
       "    <tr>\n",
       "      <th>4</th>\n",
       "      <td>0.985129</td>\n",
       "      <td>-1.630532</td>\n",
       "      <td>1.408261</td>\n",
       "      <td>0</td>\n",
       "      <td>1</td>\n",
       "      <td>0</td>\n",
       "    </tr>\n",
       "    <tr>\n",
       "      <th>...</th>\n",
       "      <td>...</td>\n",
       "      <td>...</td>\n",
       "      <td>...</td>\n",
       "      <td>...</td>\n",
       "      <td>...</td>\n",
       "      <td>...</td>\n",
       "    </tr>\n",
       "    <tr>\n",
       "      <th>595</th>\n",
       "      <td>0.807075</td>\n",
       "      <td>-1.390432</td>\n",
       "      <td>-0.968710</td>\n",
       "      <td>1</td>\n",
       "      <td>0</td>\n",
       "      <td>1</td>\n",
       "    </tr>\n",
       "    <tr>\n",
       "      <th>596</th>\n",
       "      <td>0.563672</td>\n",
       "      <td>-1.071672</td>\n",
       "      <td>-1.534655</td>\n",
       "      <td>1</td>\n",
       "      <td>0</td>\n",
       "      <td>1</td>\n",
       "    </tr>\n",
       "    <tr>\n",
       "      <th>597</th>\n",
       "      <td>-0.300744</td>\n",
       "      <td>0.909696</td>\n",
       "      <td>-1.761033</td>\n",
       "      <td>0</td>\n",
       "      <td>0</td>\n",
       "      <td>1</td>\n",
       "    </tr>\n",
       "    <tr>\n",
       "      <th>598</th>\n",
       "      <td>1.656940</td>\n",
       "      <td>1.432197</td>\n",
       "      <td>0.163181</td>\n",
       "      <td>1</td>\n",
       "      <td>1</td>\n",
       "      <td>0</td>\n",
       "    </tr>\n",
       "    <tr>\n",
       "      <th>599</th>\n",
       "      <td>1.577766</td>\n",
       "      <td>0.991590</td>\n",
       "      <td>0.049992</td>\n",
       "      <td>0</td>\n",
       "      <td>0</td>\n",
       "      <td>0</td>\n",
       "    </tr>\n",
       "  </tbody>\n",
       "</table>\n",
       "<p>600 rows × 6 columns</p>\n",
       "</div>"
      ],
      "text/plain": [
       "     Taxable.Income  City.Population  Work.Experience  Undergrad  \\\n",
       "0          0.520362        -1.178521        -0.629143          0   \n",
       "1         -0.821464         0.508500         0.276370          1   \n",
       "2         -0.698292         1.033109         1.634639          0   \n",
       "3         -0.191666         1.696831        -0.063197          1   \n",
       "4          0.985129        -1.630532         1.408261          0   \n",
       "..              ...              ...              ...        ...   \n",
       "595        0.807075        -1.390432        -0.968710          1   \n",
       "596        0.563672        -1.071672        -1.534655          1   \n",
       "597       -0.300744         0.909696        -1.761033          0   \n",
       "598        1.656940         1.432197         0.163181          1   \n",
       "599        1.577766         0.991590         0.049992          0   \n",
       "\n",
       "     Marital.Status  Urban  \n",
       "0                 2      1  \n",
       "1                 0      1  \n",
       "2                 1      1  \n",
       "3                 2      1  \n",
       "4                 1      0  \n",
       "..              ...    ...  \n",
       "595               0      1  \n",
       "596               0      1  \n",
       "597               0      1  \n",
       "598               1      0  \n",
       "599               0      0  \n",
       "\n",
       "[600 rows x 6 columns]"
      ]
     },
     "execution_count": 9,
     "metadata": {},
     "output_type": "execute_result"
    }
   ],
   "source": [
    "df1 = pd.concat([ss,df_cat],axis = 1)\n",
    "df1"
   ]
  },
  {
   "cell_type": "code",
   "execution_count": 10,
   "id": "7d06c51c",
   "metadata": {},
   "outputs": [
    {
     "data": {
      "text/html": [
       "<div>\n",
       "<style scoped>\n",
       "    .dataframe tbody tr th:only-of-type {\n",
       "        vertical-align: middle;\n",
       "    }\n",
       "\n",
       "    .dataframe tbody tr th {\n",
       "        vertical-align: top;\n",
       "    }\n",
       "\n",
       "    .dataframe thead th {\n",
       "        text-align: right;\n",
       "    }\n",
       "</style>\n",
       "<table border=\"1\" class=\"dataframe\">\n",
       "  <thead>\n",
       "    <tr style=\"text-align: right;\">\n",
       "      <th></th>\n",
       "      <th>Taxable.Income</th>\n",
       "      <th>City.Population</th>\n",
       "      <th>Work.Experience</th>\n",
       "      <th>Undergrad</th>\n",
       "      <th>Marital.Status</th>\n",
       "      <th>Urban</th>\n",
       "    </tr>\n",
       "  </thead>\n",
       "  <tbody>\n",
       "    <tr>\n",
       "      <th>0</th>\n",
       "      <td>0.520362</td>\n",
       "      <td>-1.178521</td>\n",
       "      <td>-0.629143</td>\n",
       "      <td>0</td>\n",
       "      <td>2</td>\n",
       "      <td>1</td>\n",
       "    </tr>\n",
       "    <tr>\n",
       "      <th>1</th>\n",
       "      <td>-0.821464</td>\n",
       "      <td>0.508500</td>\n",
       "      <td>0.276370</td>\n",
       "      <td>1</td>\n",
       "      <td>0</td>\n",
       "      <td>1</td>\n",
       "    </tr>\n",
       "    <tr>\n",
       "      <th>2</th>\n",
       "      <td>-0.698292</td>\n",
       "      <td>1.033109</td>\n",
       "      <td>1.634639</td>\n",
       "      <td>0</td>\n",
       "      <td>1</td>\n",
       "      <td>1</td>\n",
       "    </tr>\n",
       "    <tr>\n",
       "      <th>3</th>\n",
       "      <td>-0.191666</td>\n",
       "      <td>1.696831</td>\n",
       "      <td>-0.063197</td>\n",
       "      <td>1</td>\n",
       "      <td>2</td>\n",
       "      <td>1</td>\n",
       "    </tr>\n",
       "    <tr>\n",
       "      <th>4</th>\n",
       "      <td>0.985129</td>\n",
       "      <td>-1.630532</td>\n",
       "      <td>1.408261</td>\n",
       "      <td>0</td>\n",
       "      <td>1</td>\n",
       "      <td>0</td>\n",
       "    </tr>\n",
       "  </tbody>\n",
       "</table>\n",
       "</div>"
      ],
      "text/plain": [
       "   Taxable.Income  City.Population  Work.Experience  Undergrad  \\\n",
       "0        0.520362        -1.178521        -0.629143          0   \n",
       "1       -0.821464         0.508500         0.276370          1   \n",
       "2       -0.698292         1.033109         1.634639          0   \n",
       "3       -0.191666         1.696831        -0.063197          1   \n",
       "4        0.985129        -1.630532         1.408261          0   \n",
       "\n",
       "   Marital.Status  Urban  \n",
       "0               2      1  \n",
       "1               0      1  \n",
       "2               1      1  \n",
       "3               2      1  \n",
       "4               1      0  "
      ]
     },
     "execution_count": 10,
     "metadata": {},
     "output_type": "execute_result"
    }
   ],
   "source": [
    "x = df1\n",
    "y =df[\"tax_income\"]\n",
    "y.head()\n",
    "x.head()"
   ]
  },
  {
   "cell_type": "markdown",
   "id": "ae570fd1",
   "metadata": {},
   "source": [
    "## Data Partition"
   ]
  },
  {
   "cell_type": "code",
   "execution_count": 12,
   "id": "7edfce8f",
   "metadata": {},
   "outputs": [],
   "source": [
    "from sklearn.model_selection import train_test_split\n",
    "x_train,x_test,y_train,y_test = train_test_split(x,y,train_size = 0.2)"
   ]
  },
  {
   "cell_type": "markdown",
   "id": "4e9e7bf9",
   "metadata": {},
   "source": [
    "## RandomForest Classifier"
   ]
  },
  {
   "cell_type": "code",
   "execution_count": 13,
   "id": "c1493c45",
   "metadata": {},
   "outputs": [
    {
     "name": "stdout",
     "output_type": "stream",
     "text": [
      "['Good' 'Good' 'Risky' 'Good' 'Good' 'Risky' 'Good' 'Good' 'Good' 'Good'\n",
      " 'Good' 'Risky' 'Good' 'Good' 'Risky' 'Good' 'Good' 'Risky' 'Good' 'Risky'\n",
      " 'Good' 'Good' 'Good' 'Risky' 'Good' 'Good' 'Risky' 'Good' 'Good' 'Good'\n",
      " 'Good' 'Good' 'Good' 'Good' 'Good' 'Good' 'Good' 'Risky' 'Good' 'Risky'\n",
      " 'Good' 'Good' 'Risky' 'Good' 'Good' 'Good' 'Good' 'Good' 'Good' 'Good'\n",
      " 'Good' 'Risky' 'Good' 'Risky' 'Risky' 'Good' 'Good' 'Good' 'Good' 'Good'\n",
      " 'Good' 'Risky' 'Risky' 'Good' 'Good' 'Risky' 'Good' 'Good' 'Good' 'Risky'\n",
      " 'Good' 'Good' 'Risky' 'Good' 'Good' 'Good' 'Good' 'Good' 'Good' 'Good'\n",
      " 'Good' 'Good' 'Good' 'Good' 'Good' 'Good' 'Risky' 'Risky' 'Good' 'Good'\n",
      " 'Good' 'Good' 'Good' 'Good' 'Good' 'Good' 'Good' 'Good' 'Good' 'Risky'\n",
      " 'Good' 'Good' 'Good' 'Good' 'Good' 'Good' 'Risky' 'Good' 'Good' 'Good'\n",
      " 'Good' 'Good' 'Good' 'Good' 'Good' 'Good' 'Good' 'Good' 'Good' 'Good']\n",
      "['Risky' 'Good' 'Good' 'Good' 'Good' 'Good' 'Good' 'Good' 'Good' 'Good'\n",
      " 'Good' 'Good' 'Good' 'Good' 'Risky' 'Good' 'Good' 'Good' 'Good' 'Risky'\n",
      " 'Good' 'Good' 'Risky' 'Risky' 'Good' 'Good' 'Good' 'Good' 'Risky' 'Good'\n",
      " 'Good' 'Good' 'Good' 'Good' 'Risky' 'Risky' 'Good' 'Good' 'Good' 'Risky'\n",
      " 'Good' 'Good' 'Good' 'Risky' 'Good' 'Good' 'Good' 'Good' 'Good' 'Good'\n",
      " 'Good' 'Good' 'Good' 'Good' 'Risky' 'Good' 'Good' 'Good' 'Risky' 'Good'\n",
      " 'Good' 'Good' 'Risky' 'Good' 'Risky' 'Good' 'Good' 'Good' 'Good' 'Good'\n",
      " 'Good' 'Good' 'Good' 'Good' 'Good' 'Good' 'Good' 'Risky' 'Good' 'Good'\n",
      " 'Good' 'Good' 'Good' 'Risky' 'Good' 'Good' 'Good' 'Good' 'Good' 'Good'\n",
      " 'Risky' 'Good' 'Risky' 'Good' 'Good' 'Good' 'Good' 'Good' 'Good' 'Good'\n",
      " 'Good' 'Good' 'Good' 'Good' 'Good' 'Good' 'Good' 'Good' 'Risky' 'Good'\n",
      " 'Good' 'Risky' 'Good' 'Good' 'Good' 'Good' 'Good' 'Good' 'Good' 'Good'\n",
      " 'Good' 'Risky' 'Good' 'Good' 'Good' 'Good' 'Good' 'Good' 'Good' 'Risky'\n",
      " 'Good' 'Good' 'Good' 'Risky' 'Risky' 'Risky' 'Good' 'Good' 'Good' 'Good'\n",
      " 'Good' 'Good' 'Good' 'Risky' 'Good' 'Good' 'Good' 'Risky' 'Good' 'Good'\n",
      " 'Good' 'Good' 'Good' 'Good' 'Risky' 'Good' 'Good' 'Good' 'Good' 'Risky'\n",
      " 'Good' 'Good' 'Good' 'Risky' 'Good' 'Good' 'Risky' 'Good' 'Good' 'Good'\n",
      " 'Good' 'Good' 'Risky' 'Risky' 'Good' 'Good' 'Good' 'Good' 'Good' 'Risky'\n",
      " 'Good' 'Good' 'Risky' 'Risky' 'Good' 'Good' 'Good' 'Good' 'Risky' 'Good'\n",
      " 'Good' 'Risky' 'Risky' 'Good' 'Risky' 'Good' 'Good' 'Risky' 'Risky'\n",
      " 'Good' 'Good' 'Good' 'Risky' 'Good' 'Risky' 'Good' 'Good' 'Good' 'Good'\n",
      " 'Risky' 'Good' 'Good' 'Good' 'Good' 'Good' 'Good' 'Good' 'Good' 'Good'\n",
      " 'Good' 'Good' 'Good' 'Good' 'Good' 'Good' 'Good' 'Risky' 'Good' 'Good'\n",
      " 'Good' 'Good' 'Good' 'Risky' 'Good' 'Good' 'Good' 'Good' 'Good' 'Good'\n",
      " 'Good' 'Risky' 'Good' 'Good' 'Good' 'Good' 'Good' 'Good' 'Good' 'Good'\n",
      " 'Risky' 'Good' 'Good' 'Good' 'Good' 'Good' 'Risky' 'Good' 'Good' 'Risky'\n",
      " 'Good' 'Risky' 'Good' 'Good' 'Risky' 'Good' 'Good' 'Risky' 'Good' 'Risky'\n",
      " 'Good' 'Good' 'Good' 'Good' 'Good' 'Risky' 'Risky' 'Good' 'Good' 'Good'\n",
      " 'Good' 'Good' 'Good' 'Risky' 'Good' 'Good' 'Good' 'Risky' 'Good' 'Good'\n",
      " 'Good' 'Good' 'Good' 'Risky' 'Good' 'Good' 'Good' 'Risky' 'Risky' 'Good'\n",
      " 'Good' 'Good' 'Good' 'Good' 'Good' 'Good' 'Risky' 'Good' 'Good' 'Good'\n",
      " 'Risky' 'Good' 'Good' 'Good' 'Risky' 'Good' 'Good' 'Good' 'Good' 'Good'\n",
      " 'Good' 'Good' 'Risky' 'Good' 'Good' 'Good' 'Good' 'Risky' 'Good' 'Risky'\n",
      " 'Good' 'Good' 'Good' 'Risky' 'Risky' 'Good' 'Good' 'Good' 'Risky' 'Good'\n",
      " 'Good' 'Risky' 'Risky' 'Risky' 'Good' 'Good' 'Good' 'Good' 'Good' 'Good'\n",
      " 'Good' 'Good' 'Good' 'Risky' 'Risky' 'Good' 'Good' 'Good' 'Good' 'Risky'\n",
      " 'Good' 'Risky' 'Good' 'Good' 'Good' 'Good' 'Risky' 'Good' 'Good' 'Risky'\n",
      " 'Good' 'Good' 'Good' 'Good' 'Good' 'Good' 'Good' 'Risky' 'Good' 'Good'\n",
      " 'Good' 'Good' 'Good' 'Good' 'Good' 'Risky' 'Good' 'Good' 'Good' 'Good'\n",
      " 'Risky' 'Risky' 'Good' 'Good' 'Good' 'Good' 'Good' 'Good' 'Risky' 'Good'\n",
      " 'Risky' 'Good' 'Good' 'Risky' 'Good' 'Good' 'Good' 'Good' 'Good' 'Good'\n",
      " 'Good' 'Risky' 'Good' 'Good' 'Good' 'Good' 'Good' 'Good' 'Good' 'Good'\n",
      " 'Good' 'Good' 'Risky' 'Good' 'Risky' 'Good' 'Good' 'Good' 'Good' 'Good'\n",
      " 'Good' 'Good' 'Good' 'Good' 'Good' 'Good' 'Good' 'Good' 'Good' 'Good'\n",
      " 'Good' 'Risky' 'Good' 'Good' 'Good' 'Good' 'Good' 'Good' 'Good' 'Good'\n",
      " 'Good' 'Good' 'Good' 'Good' 'Good' 'Good' 'Good' 'Good' 'Good' 'Good'\n",
      " 'Risky' 'Good' 'Good' 'Good' 'Good' 'Risky' 'Good' 'Risky' 'Good' 'Good'\n",
      " 'Risky' 'Good' 'Good' 'Good' 'Good' 'Good' 'Good' 'Good' 'Good' 'Good'\n",
      " 'Good']\n"
     ]
    }
   ],
   "source": [
    "from sklearn.ensemble import RandomForestClassifier\n",
    "rfc = RandomForestClassifier(max_depth =5,n_estimators = 100,max_samples = 0.6,max_features = 0.7,random_state=123)\n",
    "rfc.fit(x_train,y_train)\n",
    "y_pred_train = rfc.predict(x_train)\n",
    "print(y_pred_train)\n",
    "y_pred_test = rfc.predict(x_test)\n",
    "print(y_pred_test)"
   ]
  },
  {
   "cell_type": "code",
   "execution_count": 14,
   "id": "c2a0fe85",
   "metadata": {},
   "outputs": [
    {
     "name": "stdout",
     "output_type": "stream",
     "text": [
      "The training accuracy score is: 1.0\n",
      "The testing accuracy score is: 0.988\n",
      "The Variance between train and test data is: 0.012499999999999956\n"
     ]
    }
   ],
   "source": [
    "from sklearn.metrics import accuracy_score\n",
    "acc1 = accuracy_score(y_train,y_pred_train)\n",
    "print(\"The training accuracy score is:\",acc1.round(3))\n",
    "acc2 = accuracy_score(y_test,y_pred_test)\n",
    "print(\"The testing accuracy score is:\",acc2.round(3))\n",
    "print(\"The Variance between train and test data is:\",acc1-acc2)"
   ]
  },
  {
   "cell_type": "markdown",
   "id": "6ed1a84f",
   "metadata": {},
   "source": [
    "## AdaBoostClassifier"
   ]
  },
  {
   "cell_type": "code",
   "execution_count": 15,
   "id": "a5f989d4",
   "metadata": {},
   "outputs": [
    {
     "name": "stderr",
     "output_type": "stream",
     "text": [
      "F:\\ANACONDA SABA\\lib\\site-packages\\sklearn\\ensemble\\_base.py:166: FutureWarning: `base_estimator` was renamed to `estimator` in version 1.2 and will be removed in 1.4.\n",
      "  warnings.warn(\n"
     ]
    },
    {
     "data": {
      "text/plain": [
       "array(['Good', 'Good', 'Risky', 'Good', 'Good', 'Risky', 'Good', 'Good',\n",
       "       'Good', 'Good', 'Good', 'Risky', 'Good', 'Good', 'Risky', 'Good',\n",
       "       'Good', 'Risky', 'Good', 'Risky', 'Good', 'Good', 'Good', 'Risky',\n",
       "       'Good', 'Good', 'Risky', 'Good', 'Good', 'Good', 'Good', 'Good',\n",
       "       'Good', 'Good', 'Good', 'Good', 'Good', 'Risky', 'Good', 'Risky',\n",
       "       'Good', 'Good', 'Risky', 'Good', 'Good', 'Good', 'Good', 'Good',\n",
       "       'Good', 'Good', 'Good', 'Risky', 'Good', 'Risky', 'Risky', 'Good',\n",
       "       'Good', 'Good', 'Good', 'Good', 'Good', 'Risky', 'Risky', 'Good',\n",
       "       'Good', 'Risky', 'Good', 'Good', 'Good', 'Risky', 'Good', 'Good',\n",
       "       'Risky', 'Good', 'Good', 'Good', 'Good', 'Good', 'Good', 'Good',\n",
       "       'Good', 'Good', 'Good', 'Good', 'Good', 'Good', 'Risky', 'Risky',\n",
       "       'Good', 'Good', 'Good', 'Good', 'Good', 'Good', 'Good', 'Good',\n",
       "       'Good', 'Good', 'Good', 'Risky', 'Good', 'Good', 'Good', 'Good',\n",
       "       'Good', 'Good', 'Risky', 'Good', 'Good', 'Good', 'Good', 'Good',\n",
       "       'Good', 'Good', 'Good', 'Good', 'Good', 'Good', 'Good', 'Good'],\n",
       "      dtype=object)"
      ]
     },
     "execution_count": 15,
     "metadata": {},
     "output_type": "execute_result"
    }
   ],
   "source": [
    "from sklearn.ensemble import AdaBoostClassifier\n",
    "ABR = AdaBoostClassifier(base_estimator=RandomForestClassifier(),\n",
    "                        n_estimators=250,\n",
    "                        learning_rate=2)\n",
    "\n",
    "ABR.fit(x_train,y_train)\n",
    "y_pred_train = ABR.predict(x_train) \n",
    "y_pred_test = ABR.predict(x_test) \n",
    "y_pred_train\n"
   ]
  },
  {
   "cell_type": "code",
   "execution_count": 16,
   "id": "1a3c7536",
   "metadata": {},
   "outputs": [
    {
     "name": "stdout",
     "output_type": "stream",
     "text": [
      "The training accuracy score is: 1.0\n",
      "The testing accuracy score is: 0.996\n",
      "The Variance between train and test data is: 0.004166666666666652\n"
     ]
    }
   ],
   "source": [
    "from sklearn.metrics import accuracy_score\n",
    "acc1 = accuracy_score(y_train,y_pred_train)\n",
    "print(\"The training accuracy score is:\",acc1.round(3))\n",
    "acc2 = accuracy_score(y_test,y_pred_test)\n",
    "print(\"The testing accuracy score is:\",acc2.round(3))\n",
    "print(\"The Variance between train and test data is:\",acc1-acc2)"
   ]
  },
  {
   "cell_type": "markdown",
   "id": "a80ccd1c",
   "metadata": {},
   "source": [
    "## GradientBoostingClassifier"
   ]
  },
  {
   "cell_type": "code",
   "execution_count": 17,
   "id": "b12c5789",
   "metadata": {},
   "outputs": [],
   "source": [
    "from sklearn.ensemble import GradientBoostingClassifier\n",
    "gbc = GradientBoostingClassifier(max_depth = 5,n_estimators = 100,learning_rate = 0.01)\n",
    "gbc.fit(x_train,y_train)\n",
    "y_pred_train = gbc.predict(x_train) \n",
    "y_pred_test = gbc.predict(x_test) "
   ]
  },
  {
   "cell_type": "code",
   "execution_count": 18,
   "id": "50bbdb9e",
   "metadata": {},
   "outputs": [
    {
     "name": "stdout",
     "output_type": "stream",
     "text": [
      "The training accuracy score is: 1.0\n",
      "The testing accuracy score is: 1.0\n",
      "The Variance between train and test data is: 0.0\n"
     ]
    }
   ],
   "source": [
    "from sklearn.metrics import accuracy_score\n",
    "acc1 = accuracy_score(y_train,y_pred_train)\n",
    "print(\"The training accuracy score is:\",acc1.round(3))\n",
    "acc2 = accuracy_score(y_test,y_pred_test)\n",
    "print(\"The testing accuracy score is:\",acc2.round(3))\n",
    "print(\"The Variance between train and test data is:\",acc1-acc2)"
   ]
  },
  {
   "cell_type": "markdown",
   "id": "10720665",
   "metadata": {},
   "source": [
    "### From the above classifier the best classifier model is GradientBoosting Classifier with the variance between test and train data as 0 . Thus, it fits the model best avoiding overfitting and underfitting"
   ]
  },
  {
   "cell_type": "code",
   "execution_count": null,
   "id": "75c2a35a",
   "metadata": {},
   "outputs": [],
   "source": []
  }
 ],
 "metadata": {
  "kernelspec": {
   "display_name": "Python 3 (ipykernel)",
   "language": "python",
   "name": "python3"
  },
  "language_info": {
   "codemirror_mode": {
    "name": "ipython",
    "version": 3
   },
   "file_extension": ".py",
   "mimetype": "text/x-python",
   "name": "python",
   "nbconvert_exporter": "python",
   "pygments_lexer": "ipython3",
   "version": "3.10.9"
  }
 },
 "nbformat": 4,
 "nbformat_minor": 5
}
